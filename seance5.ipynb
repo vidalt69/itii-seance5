{
 "cells": [
  {
   "cell_type": "markdown",
   "metadata": {},
   "source": [
    "Ex1:\n",
    "    \n",
    "1. Ecrire une fonction qui prend en entrée une fonction f et des réels a et h et donne en sortie le taux de variation (ou d'accroissement) de la fonction f entre le point d'abscisse a+h et a.\n",
    "2. Tester avec f(x)=3x^3+1x^2-5"
   ]
  },
  {
   "cell_type": "code",
   "execution_count": null,
   "metadata": {},
   "outputs": [],
   "source": [
    "def tauxVariation(f,a,h):\n",
    "    taux = (f(a + h) - f(a)) / h\n",
    "    return taux\n",
    "\n",
    "from sympy.utilities.lambdify import lambdify\n",
    "from sympy.abc import x, y, z\n",
    "\n",
    "f = lambdify(x, 3 * x ** 3 + x ** 2 - 5)\n",
    "a = 0\n",
    "h = 1\n",
    "print(tauxVariation(f, a, h))"
   ]
  },
  {
   "cell_type": "markdown",
   "metadata": {},
   "source": [
    "Ex2:\n",
    "1. Ecrire une fonction qui calcule la liste des coefficients directeurs pour une fonction f définit sur I=[a;b] avec un pas \"p\"\n",
    "2. Tester avec f(x)=(1+x)/(x-4) définit sur I=[0,1] avec un pas de 0.01"
   ]
  },
  {
   "cell_type": "code",
   "execution_count": null,
   "metadata": {},
   "outputs": [],
   "source": [
    "def coefDirecteur(f, a, b, p):\n",
    "    coef = []\n",
    "    for i in range(a, b, p):\n",
    "        return coef\n",
    "\n",
    "def f (x):\n",
    "    return (1 + x) / (x - 4)\n",
    "\n",
    "coefDirecteur(f, 0, 1, 2)"
   ]
  },
  {
   "cell_type": "markdown",
   "metadata": {},
   "source": [
    "Ex3:\n",
    "on considère une suite U définie par Un+1=Un+n+1 et de premier terme U0. Ecrire une fonction qui prend en entrée les valeurs de n et U0 et affiche la valeur de Un.\n",
    "1. De facon iterative\n",
    "2. Par recurence"
   ]
  },
  {
   "cell_type": "code",
   "execution_count": null,
   "metadata": {},
   "outputs": [],
   "source": [
    "# facon iterative\n",
    "\n",
    "def calcul_suite(n, u0):\n",
    "\n",
    "    uN = u0 + n + 1\n",
    "\n",
    "    for i in range(10):\n",
    "        uN = uN + n + 1\n",
    "        print(uN)\n",
    "\n",
    "# par recurrence\n",
    "\n",
    "def calcul_suite_recurrence(n, uN):\n",
    "    resp = uN + n + 1\n",
    "    print(resp)\n",
    "    return calcul_suite_recurrence(n, resp)"
   ]
  },
  {
   "cell_type": "markdown",
   "metadata": {},
   "source": [
    "Ex4:\n",
    "On pose Tn=n^2−(n−1)^2 ainsi que Sn=T1+T2+T3+...+Tn.\n",
    "1. Etant donné n, afficher la valeur de Sn."
   ]
  },
  {
   "cell_type": "code",
   "execution_count": null,
   "metadata": {},
   "outputs": [],
   "source": [
    "def valeurSn(n):\n",
    "    Sn = 0\n",
    "    for i in range(1, n + 1):\n",
    "        Tn = i ** 2 - (i - 1) ** 2\n",
    "        Sn = Sn + Tn\n",
    "    return Sn\n",
    "\n",
    "print(valeurSn(3))"
   ]
  },
  {
   "cell_type": "markdown",
   "metadata": {},
   "source": [
    "Ex5:\n",
    "Soit la suite définie par Un+1=0.5.Un et de premier terme U0. Plus la valeur de n augmente, plus les valeurs de Un se rapprochent de 0.\n",
    "\n",
    "Ecrire une fonction qui permet de déterminer pour un réel positif e donné, quel est le plus petit entier n tel que la valeur de Un soit inférieure à e.\n"
   ]
  },
  {
   "cell_type": "code",
   "execution_count": null,
   "metadata": {},
   "outputs": [],
   "source": [
    "def deter(e, u0):\n",
    "    b = 1;\n",
    "    un = u0\n",
    "    n = 0;\n",
    "    while ( b == 1 ):\n",
    "        un = uN(un)\n",
    "        print(un)\n",
    "        if(un < e):\n",
    "            b = 0\n",
    "        else:\n",
    "            n+=1\n",
    "\n",
    "    return n;\n",
    "\n",
    "def uN(un):\n",
    "    return 0.5*un\n",
    "\n",
    "deter(5, 2)"
   ]
  },
  {
   "cell_type": "markdown",
   "metadata": {},
   "source": [
    "Ex6: Constante K de Catalan : https://fr.wikipedia.org/wiki/Constante_de_Catalan\n",
    "Ecrire une fonction qui permet de retourner une valeur approchée de la constante K et en s’arrêtant dès que la valeur absolue de la différence entre deux somme successives devienne inférieure ou égale à une erreur epsilon donnée en paramètre.\n",
    "\n"
   ]
  },
  {
   "cell_type": "code",
   "execution_count": null,
   "metadata": {},
   "outputs": [],
   "source": [
    "def valeur_app(epsilon): \n",
    "    elm1 = 1\n",
    "    elm2 = elm1 - 1 / (3 ** 2)\n",
    "    signe = 1\n",
    "    val = 5\n",
    "    while abs(elm2 - elm1) > epsilon :\n",
    "       elm1 = elm2\n",
    "       elm2 = elm1 + signe * (1 / (val ** 2))\n",
    "       val += 2\n",
    "       signe *= (-1)\n",
    "    return elm2\n",
    " \n",
    "print(valeur_app(0.05))"
   ]
  },
  {
   "cell_type": "markdown",
   "metadata": {},
   "source": [
    "Ex 7:\n",
    "Ecrivez une fonction permettant de calculer la limite à epsilon près de la suite définie par la relation de récurrence :\n",
    "\n",
    "U0 =2\n",
    "Un+1= Un + 2/Un  , n>0.\n",
    "\n",
    "On arrête d’itérer quand l’intervalle entre 2 termes consécutifs devient strictement inférieur à epsilon."
   ]
  }
 ],
 "metadata": {
  "kernelspec": {
   "display_name": "Python 3",
   "language": "python",
   "name": "python3"
  },
  "language_info": {
   "codemirror_mode": {
    "name": "ipython",
    "version": 3
   },
   "file_extension": ".py",
   "mimetype": "text/x-python",
   "name": "python",
   "nbconvert_exporter": "python",
   "pygments_lexer": "ipython3",
   "version": "3.8.3"
  }
 },
 "nbformat": 4,
 "nbformat_minor": 4
}
